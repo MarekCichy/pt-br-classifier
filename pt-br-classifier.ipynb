{
 "cells": [
  {
   "cell_type": "markdown",
   "metadata": {
    "heading_collapsed": true
   },
   "source": [
    "# Brazilian or European Portuguese?\n",
    "\n",
    "This simple classifier verifies which Portuguese norm prevails in a given text.\n",
    "\n",
    "We start by defining the problem - what question do we want to answer?<br>\n",
    "In this case - is the text written in <a href=\"https://en.wikipedia.org/wiki/Portuguese_dialects\">European or Brazilian Portuguese</a>?\n",
    "\n",
    "In order to do it, I:\n",
    "- gather data \n",
    "- prepare them for the ML algorithm\n",
    "- train it and verify its accuracy\n",
    "- export the trained algorithm to use it in the future.\n"
   ]
  },
  {
   "cell_type": "markdown",
   "metadata": {},
   "source": [
    "# Gathering data\n",
    "\n",
    "That is - what data do I need, where to gather them and how. In this case I chose TED.com as my source of data. It's a reasonably large database of lectures with a clear division between both Portuguese dialects. I scraped the lecture transcriptions using a Scrapy spider. The code for the two spiders is <a href=\"https://github.com/MarekCichy/pt-br-classifier/blob/master/PTCrawler.py\">here</a> and <a href=\"https://github.com/MarekCichy/pt-br-classifier/blob/master/BRCrawler.py\">here</a>.\n",
    "\n",
    "# Data wrangling\n",
    "\n",
    "I scraped about 2500 TED talks for each version of Portuguese, some 12-18 thousand characters per talk. After cleaning formatting (leaving only pure text), I mark the transcriptions \"0\" for PT-PT (European Portuguese) and \"1\" for PT-BR, then transform it with scikit-learn's CountVectorizer. \n",
    "\n",
    "CountVectorizer basically counts the number of occurences of all the words in each document. I do not use any other preprocessing. I do not stem the words, as I want to maintain the grammatical differences (e.g. verb conjugation differences) between both dialects."
   ]
  },
  {
   "cell_type": "code",
   "execution_count": 1,
   "metadata": {},
   "outputs": [],
   "source": [
    "import pandas as pd\n",
    "import matplotlib.pyplot as plt\n",
    "import json\n",
    "\n",
    "from sklearn.feature_extraction.text import CountVectorizer \n",
    "from sklearn.linear_model import LogisticRegression\n",
    "from sklearn.model_selection import train_test_split\n",
    "from sklearn.naive_bayes import MultinomialNB\n",
    "from sklearn.pipeline import Pipeline\n",
    "from sklearn import metrics\n",
    "\n",
    "from nltk import sent_tokenize\n",
    "\n",
    "from joblib import dump, load"
   ]
  },
  {
   "cell_type": "code",
   "execution_count": 2,
   "metadata": {},
   "outputs": [],
   "source": [
    "#importing scraped texts\n",
    "pt_talks = pd.read_csv('pt_dict.csv').dropna()\n",
    "br_talks = pd.read_csv('br_dict.csv').dropna()"
   ]
  },
  {
   "cell_type": "code",
   "execution_count": 3,
   "metadata": {},
   "outputs": [
    {
     "data": {
      "text/html": [
       "<div>\n",
       "<style scoped>\n",
       "    .dataframe tbody tr th:only-of-type {\n",
       "        vertical-align: middle;\n",
       "    }\n",
       "\n",
       "    .dataframe tbody tr th {\n",
       "        vertical-align: top;\n",
       "    }\n",
       "\n",
       "    .dataframe thead th {\n",
       "        text-align: right;\n",
       "    }\n",
       "</style>\n",
       "<table border=\"1\" class=\"dataframe\">\n",
       "  <thead>\n",
       "    <tr style=\"text-align: right;\">\n",
       "      <th></th>\n",
       "      <th>0</th>\n",
       "    </tr>\n",
       "  </thead>\n",
       "  <tbody>\n",
       "    <tr>\n",
       "      <th>Lindy Lou Isonhood</th>\n",
       "      <td>\\n\\t\\t\\t\\t\\t\\t\\t\\t\\t\\t\\tFoi numa quarta-feira,...</td>\n",
       "    </tr>\n",
       "    <tr>\n",
       "      <th>Jonathan Wilker</th>\n",
       "      <td>\\n\\t\\t\\t\\t\\t\\t\\t\\t\\t\\t\\tGostava que viessem co...</td>\n",
       "    </tr>\n",
       "    <tr>\n",
       "      <th>Michael C. Bush</th>\n",
       "      <td>\\n\\t\\t\\t\\t\\t\\t\\t\\t\\t\\t\\tInterrogamos CEOs, pol...</td>\n",
       "    </tr>\n",
       "    <tr>\n",
       "      <th>Rene Laufer</th>\n",
       "      <td>\\n\\t\\t\\t\\t\\t\\t\\t\\t\\t\\t\\tA mais de seis mil ano...</td>\n",
       "    </tr>\n",
       "    <tr>\n",
       "      <th>Kym Worthy</th>\n",
       "      <td>\\n\\t\\t\\t\\t\\t\\t\\t\\t\\t\\t\\tEm Agosto de 2009, a m...</td>\n",
       "    </tr>\n",
       "  </tbody>\n",
       "</table>\n",
       "</div>"
      ],
      "text/plain": [
       "                                                                    0\n",
       "Lindy Lou Isonhood  \\n\\t\\t\\t\\t\\t\\t\\t\\t\\t\\t\\tFoi numa quarta-feira,...\n",
       "Jonathan Wilker     \\n\\t\\t\\t\\t\\t\\t\\t\\t\\t\\t\\tGostava que viessem co...\n",
       "Michael C. Bush     \\n\\t\\t\\t\\t\\t\\t\\t\\t\\t\\t\\tInterrogamos CEOs, pol...\n",
       "Rene Laufer         \\n\\t\\t\\t\\t\\t\\t\\t\\t\\t\\t\\tA mais de seis mil ano...\n",
       "Kym Worthy          \\n\\t\\t\\t\\t\\t\\t\\t\\t\\t\\t\\tEm Agosto de 2009, a m..."
      ]
     },
     "execution_count": 3,
     "metadata": {},
     "output_type": "execute_result"
    }
   ],
   "source": [
    "pt_talks.head()"
   ]
  },
  {
   "cell_type": "code",
   "execution_count": 4,
   "metadata": {},
   "outputs": [
    {
     "name": "stdout",
     "output_type": "stream",
     "text": [
      "<class 'pandas.core.frame.DataFrame'>\n",
      "Index: 2409 entries, Lindy Lou Isonhood to Stefana Broadbent\n",
      "Data columns (total 1 columns):\n",
      "0    2409 non-null object\n",
      "dtypes: object(1)\n",
      "memory usage: 37.6+ KB\n"
     ]
    }
   ],
   "source": [
    "pt_talks.info()"
   ]
  },
  {
   "cell_type": "code",
   "execution_count": 5,
   "metadata": {},
   "outputs": [
    {
     "data": {
      "text/html": [
       "<div>\n",
       "<style scoped>\n",
       "    .dataframe tbody tr th:only-of-type {\n",
       "        vertical-align: middle;\n",
       "    }\n",
       "\n",
       "    .dataframe tbody tr th {\n",
       "        vertical-align: top;\n",
       "    }\n",
       "\n",
       "    .dataframe thead th {\n",
       "        text-align: right;\n",
       "    }\n",
       "</style>\n",
       "<table border=\"1\" class=\"dataframe\">\n",
       "  <thead>\n",
       "    <tr style=\"text-align: right;\">\n",
       "      <th></th>\n",
       "      <th>text</th>\n",
       "      <th>label</th>\n",
       "    </tr>\n",
       "  </thead>\n",
       "  <tbody>\n",
       "    <tr>\n",
       "      <th>Lindy Lou Isonhood</th>\n",
       "      <td>Foi numa quarta-feira,            ...</td>\n",
       "      <td>0</td>\n",
       "    </tr>\n",
       "    <tr>\n",
       "      <th>Jonathan Wilker</th>\n",
       "      <td>Gostava que viessem comigo numa vi...</td>\n",
       "      <td>0</td>\n",
       "    </tr>\n",
       "    <tr>\n",
       "      <th>Michael C. Bush</th>\n",
       "      <td>Interrogamos CEOs, polícias, camio...</td>\n",
       "      <td>0</td>\n",
       "    </tr>\n",
       "    <tr>\n",
       "      <th>Rene Laufer</th>\n",
       "      <td>A mais de seis mil anos-luz       ...</td>\n",
       "      <td>0</td>\n",
       "    </tr>\n",
       "    <tr>\n",
       "      <th>Kym Worthy</th>\n",
       "      <td>Em Agosto de 2009, a minha procura...</td>\n",
       "      <td>0</td>\n",
       "    </tr>\n",
       "  </tbody>\n",
       "</table>\n",
       "</div>"
      ],
      "text/plain": [
       "                                                                 text  label\n",
       "Lindy Lou Isonhood              Foi numa quarta-feira,            ...      0\n",
       "Jonathan Wilker                 Gostava que viessem comigo numa vi...      0\n",
       "Michael C. Bush                 Interrogamos CEOs, polícias, camio...      0\n",
       "Rene Laufer                     A mais de seis mil anos-luz       ...      0\n",
       "Kym Worthy                      Em Agosto de 2009, a minha procura...      0"
      ]
     },
     "execution_count": 5,
     "metadata": {},
     "output_type": "execute_result"
    }
   ],
   "source": [
    "#cleaning up\n",
    "pt_talks.columns = ['text']\n",
    "pt_talks.text = pt_talks.text.apply(lambda x:x.replace('\\n',' '))\n",
    "pt_talks.text = pt_talks.text.apply(lambda x:x.replace('\\t',' '))\n",
    "pt_talks['label'] = 0\n",
    "pt_talks.head()"
   ]
  },
  {
   "cell_type": "code",
   "execution_count": 6,
   "metadata": {},
   "outputs": [
    {
     "data": {
      "text/html": [
       "<div>\n",
       "<style scoped>\n",
       "    .dataframe tbody tr th:only-of-type {\n",
       "        vertical-align: middle;\n",
       "    }\n",
       "\n",
       "    .dataframe tbody tr th {\n",
       "        vertical-align: top;\n",
       "    }\n",
       "\n",
       "    .dataframe thead th {\n",
       "        text-align: right;\n",
       "    }\n",
       "</style>\n",
       "<table border=\"1\" class=\"dataframe\">\n",
       "  <thead>\n",
       "    <tr style=\"text-align: right;\">\n",
       "      <th></th>\n",
       "      <th>text</th>\n",
       "      <th>label</th>\n",
       "    </tr>\n",
       "  </thead>\n",
       "  <tbody>\n",
       "    <tr>\n",
       "      <th>Stacie Bosley</th>\n",
       "      <td>Em 2004,            uma nova empre...</td>\n",
       "      <td>1</td>\n",
       "    </tr>\n",
       "    <tr>\n",
       "      <th>César Hidalgo</th>\n",
       "      <td>Sou só eu            ou há outras ...</td>\n",
       "      <td>1</td>\n",
       "    </tr>\n",
       "    <tr>\n",
       "      <th>Sarah Barmak</th>\n",
       "      <td>Em nossa cultura, tendemos a ver o...</td>\n",
       "      <td>1</td>\n",
       "    </tr>\n",
       "    <tr>\n",
       "      <th>Shohini Ghose</th>\n",
       "      <td>Se quisesse dar apenas uma olhadin...</td>\n",
       "      <td>1</td>\n",
       "    </tr>\n",
       "    <tr>\n",
       "      <th>Balsher Singh Sidhu</th>\n",
       "      <td>Olhando do espaço, nosso planeta p...</td>\n",
       "      <td>1</td>\n",
       "    </tr>\n",
       "  </tbody>\n",
       "</table>\n",
       "</div>"
      ],
      "text/plain": [
       "                                                                  text  label\n",
       "Stacie Bosley                    Em 2004,            uma nova empre...      1\n",
       "César Hidalgo                    Sou só eu            ou há outras ...      1\n",
       "Sarah Barmak                     Em nossa cultura, tendemos a ver o...      1\n",
       "Shohini Ghose                    Se quisesse dar apenas uma olhadin...      1\n",
       "Balsher Singh Sidhu              Olhando do espaço, nosso planeta p...      1"
      ]
     },
     "execution_count": 6,
     "metadata": {},
     "output_type": "execute_result"
    }
   ],
   "source": [
    "br_talks.columns = ['text']\n",
    "br_talks.text = br_talks.text.apply(lambda x:x.replace('\\t',' '))\n",
    "br_talks.text = br_talks.text.apply(lambda x:x.replace('\\n',' '))\n",
    "br_talks['label'] = 1\n",
    "br_talks.head()"
   ]
  },
  {
   "cell_type": "code",
   "execution_count": 7,
   "metadata": {},
   "outputs": [
    {
     "name": "stdout",
     "output_type": "stream",
     "text": [
      "<class 'pandas.core.frame.DataFrame'>\n",
      "Index: 2897 entries, Stacie Bosley to José Antonio Abreu\n",
      "Data columns (total 2 columns):\n",
      "text     2897 non-null object\n",
      "label    2897 non-null int64\n",
      "dtypes: int64(1), object(1)\n",
      "memory usage: 67.9+ KB\n"
     ]
    }
   ],
   "source": [
    "br_talks.info()"
   ]
  },
  {
   "cell_type": "code",
   "execution_count": 8,
   "metadata": {},
   "outputs": [
    {
     "name": "stdout",
     "output_type": "stream",
     "text": [
      "<class 'pandas.core.frame.DataFrame'>\n",
      "Index: 5306 entries, Stacie Bosley to Stefana Broadbent\n",
      "Data columns (total 2 columns):\n",
      "text     5306 non-null object\n",
      "label    5306 non-null int64\n",
      "dtypes: int64(1), object(1)\n",
      "memory usage: 124.4+ KB\n"
     ]
    }
   ],
   "source": [
    "#making a joint DF\n",
    "joint_df = pd.concat([br_talks, pt_talks])\n",
    "joint_df.info()"
   ]
  },
  {
   "cell_type": "code",
   "execution_count": 9,
   "metadata": {},
   "outputs": [
    {
     "data": {
      "text/html": [
       "<div>\n",
       "<style scoped>\n",
       "    .dataframe tbody tr th:only-of-type {\n",
       "        vertical-align: middle;\n",
       "    }\n",
       "\n",
       "    .dataframe tbody tr th {\n",
       "        vertical-align: top;\n",
       "    }\n",
       "\n",
       "    .dataframe thead th {\n",
       "        text-align: right;\n",
       "    }\n",
       "</style>\n",
       "<table border=\"1\" class=\"dataframe\">\n",
       "  <thead>\n",
       "    <tr style=\"text-align: right;\">\n",
       "      <th></th>\n",
       "      <th>text</th>\n",
       "      <th>label</th>\n",
       "    </tr>\n",
       "  </thead>\n",
       "  <tbody>\n",
       "    <tr>\n",
       "      <th>Stacie Bosley</th>\n",
       "      <td>Em 2004,            uma nova empre...</td>\n",
       "      <td>1</td>\n",
       "    </tr>\n",
       "    <tr>\n",
       "      <th>César Hidalgo</th>\n",
       "      <td>Sou só eu            ou há outras ...</td>\n",
       "      <td>1</td>\n",
       "    </tr>\n",
       "    <tr>\n",
       "      <th>Sarah Barmak</th>\n",
       "      <td>Em nossa cultura, tendemos a ver o...</td>\n",
       "      <td>1</td>\n",
       "    </tr>\n",
       "    <tr>\n",
       "      <th>Shohini Ghose</th>\n",
       "      <td>Se quisesse dar apenas uma olhadin...</td>\n",
       "      <td>1</td>\n",
       "    </tr>\n",
       "    <tr>\n",
       "      <th>Balsher Singh Sidhu</th>\n",
       "      <td>Olhando do espaço, nosso planeta p...</td>\n",
       "      <td>1</td>\n",
       "    </tr>\n",
       "  </tbody>\n",
       "</table>\n",
       "</div>"
      ],
      "text/plain": [
       "                                                                  text  label\n",
       "Stacie Bosley                    Em 2004,            uma nova empre...      1\n",
       "César Hidalgo                    Sou só eu            ou há outras ...      1\n",
       "Sarah Barmak                     Em nossa cultura, tendemos a ver o...      1\n",
       "Shohini Ghose                    Se quisesse dar apenas uma olhadin...      1\n",
       "Balsher Singh Sidhu              Olhando do espaço, nosso planeta p...      1"
      ]
     },
     "execution_count": 9,
     "metadata": {},
     "output_type": "execute_result"
    }
   ],
   "source": [
    "joint_df.head()"
   ]
  },
  {
   "cell_type": "code",
   "execution_count": 10,
   "metadata": {},
   "outputs": [],
   "source": [
    "vectorizer = CountVectorizer(min_df=2)"
   ]
  },
  {
   "cell_type": "code",
   "execution_count": 11,
   "metadata": {},
   "outputs": [],
   "source": [
    "y = joint_df.label\n",
    "X_train, X_test, y_train, y_test = train_test_split(joint_df['text'], y, test_size=0.33, random_state=53)\n",
    "train = vectorizer.fit_transform(X_train.values)\n"
   ]
  },
  {
   "cell_type": "markdown",
   "metadata": {},
   "source": [
    "# Training\n",
    "\n",
    "Unsurprisingly, I split the texts into a training and testing sets and train a MultinomialNaiveBayes model on these. The model basically checks the frequency of a given word in the BR and PT sets and thus determines if the word suggests a more \"Brazilian\" or \"Portuguese\" word. All of the words in a phrase are weighed and the final probability is given.\n",
    "\n",
    "I transform the test set - I want to be able to classify short texts, of, say, 4 sentences. Thus, I split the test set texts into smaller ones. Let's see how it reflects on the classifier's precision."
   ]
  },
  {
   "cell_type": "code",
   "execution_count": 12,
   "metadata": {},
   "outputs": [
    {
     "data": {
      "text/plain": [
       "MultinomialNB(alpha=1.0, class_prior=None, fit_prior=True)"
      ]
     },
     "execution_count": 12,
     "metadata": {},
     "output_type": "execute_result"
    }
   ],
   "source": [
    "nb_classifier = MultinomialNB()\n",
    "nb_classifier.fit(train, y_train)"
   ]
  },
  {
   "cell_type": "code",
   "execution_count": 13,
   "metadata": {
    "scrolled": true
   },
   "outputs": [],
   "source": [
    "test_tokenized = X_test.apply(lambda x: sent_tokenize(x))\n",
    "spread = test_tokenized.apply(pd.Series)\n",
    "spread = spread.fillna('')\n",
    "for y in range(0,340,4):\n",
    "    spread['grouped'+str(y/4)] = spread.iloc[:,y:y+4].apply(lambda x: ' '.join(x), axis=1)\n",
    "spread = spread.loc[:,'grouped0.0':]\n",
    "spread['label'] = y_test\n",
    "test_df = spread.melt(id_vars='label')\n",
    "test_df['len'] = test_df.value.apply(lambda x: len(x))\n",
    "test_df = test_df[test_df.len > 30]"
   ]
  },
  {
   "cell_type": "code",
   "execution_count": 14,
   "metadata": {},
   "outputs": [],
   "source": [
    "test = vectorizer.transform(test_df.value)"
   ]
  },
  {
   "cell_type": "code",
   "execution_count": 15,
   "metadata": {},
   "outputs": [
    {
     "data": {
      "text/plain": [
       "0.8654743849835536"
      ]
     },
     "execution_count": 15,
     "metadata": {},
     "output_type": "execute_result"
    }
   ],
   "source": [
    "pred = nb_classifier.predict(test)\n",
    "score = metrics.accuracy_score(test_df.label, pred)\n",
    "score"
   ]
  },
  {
   "cell_type": "code",
   "execution_count": 16,
   "metadata": {},
   "outputs": [
    {
     "data": {
      "text/plain": [
       "array([[18393,  3450],\n",
       "       [ 3380, 25548]], dtype=int64)"
      ]
     },
     "execution_count": 16,
     "metadata": {},
     "output_type": "execute_result"
    }
   ],
   "source": [
    "cm = metrics.confusion_matrix(test_df.label, pred, labels = [0,1])\n",
    "cm"
   ]
  },
  {
   "cell_type": "markdown",
   "metadata": {},
   "source": [
    "# Result\n",
    "\n",
    "Not bad! A simple method and a dataset smaller than the whole Wikipedia gave 86,47% accuracy for short texts, 4 sentences long. These are, naturally, samples from the same source as the test set. In the future I want to check the classifier's performance in other genres.\n",
    "\n",
    "For the time being, let's print out some incorrect classification examples."
   ]
  },
  {
   "cell_type": "code",
   "execution_count": 17,
   "metadata": {},
   "outputs": [
    {
     "data": {
      "text/plain": [
       "array([[0, 0, 'grouped0.0',\n",
       "        '            As coisas que fazemos            têm uma qualidade suprema —            elas vivem mais tempo do que nós. Nós perecemos, elas sobrevivem;            nós temos uma vida, elas têm muitas vidas,            e em cada vida elas podem significar coisas diferentes. O que significa que, enquanto nós todos temos uma biografia,            elas têm muitas. Eu quero falar esta manhã            acerca da história, a biografia — ou antes, as biografias —            de um objeto em particular,            uma coisa notável.',\n",
       "        525, 1],\n",
       "       [4, 1, 'grouped0.0',\n",
       "        '            Não seria ótimo se pudéssemos ser            invisíveis? Ah, não acha? Quero dizer, poderíamos espiar as pessoas sem sermos notados            e fazer qualquer coisa que quiséssemos            sem sermos responsabilizados. Bom, os mágicos descobriram            como utilizar espelhos em tamanho natural para curvar a luz,            a fim de criar a ilusão de que coisas desaparecem.',\n",
       "        396, 0],\n",
       "       [6, 1, 'grouped0.0',\n",
       "        '            Este som,            este aroma,            esta vista,            tudo me lembra as fogueiras de minha infância,            quando alguém podia se tornar um contador de histórias em frente das chamas dançantes. Havia aquele final maravilhoso            quando as pessoas e o fogo caíam no sono quase que em uníssono. Era tempo de sonhar. Minha história tem muito a ver com sonho,            embora eu seja conhecido por tornar meus sonhos realidade.',\n",
       "        462, 0],\n",
       "       [18, 1, 'grouped0.0',\n",
       "        '            Há 24 anos,            trabalho como bombeira em Huntington, Virgínia Ocidental. Nossa tarefa como bombeiros é salvar vidas            e bens            em desastres como acidentes de carro, incêndios residenciais            e também emergências médicas com risco de vida. Sou uma mulher que chefia um departamento numa profissão dominada por homens. Há dez anos,            decidi aumentar meus conhecimentos médicos            e formei-me como enfermeira.',\n",
       "        469, 0],\n",
       "       [22, 0, 'grouped0.0',\n",
       "        '            Sarge Salman: De Los Altos Hills, Califórnia,            Sr. Henry Evans. (Aplausos)            Henry Evans: Olá. O meu nome é Henry Evans,            e até 29 de Agosto de 2002,            estive a viver uma versão do sonho americano. Eu cresci numa típica cidade norte-americana próxima de St. Louis.',\n",
       "        314, 1]], dtype=object)"
      ]
     },
     "execution_count": 17,
     "metadata": {},
     "output_type": "execute_result"
    }
   ],
   "source": [
    "check_falses = test_df.reset_index()\n",
    "check_falses['pred'] = pred\n",
    "\n",
    "falses = check_falses[check_falses['label'] != check_falses['pred']]\n",
    "falses.values[:5]"
   ]
  },
  {
   "cell_type": "markdown",
   "metadata": {},
   "source": [
    "# Classifier comparison\n",
    "\n",
    "How would logistic regression fare on the same problem? Were my tutors right in recommending NaiveBayes?"
   ]
  },
  {
   "cell_type": "code",
   "execution_count": 18,
   "metadata": {},
   "outputs": [
    {
     "name": "stderr",
     "output_type": "stream",
     "text": [
      "C:\\ProgramData\\Anaconda3\\lib\\site-packages\\sklearn\\linear_model\\logistic.py:433: FutureWarning: Default solver will be changed to 'lbfgs' in 0.22. Specify a solver to silence this warning.\n",
      "  FutureWarning)\n"
     ]
    },
    {
     "data": {
      "text/plain": [
       "0.99915611814346"
      ]
     },
     "execution_count": 18,
     "metadata": {},
     "output_type": "execute_result"
    }
   ],
   "source": [
    "lr = LogisticRegression()\n",
    "lr.fit(train, y_train)\n",
    "lr.score(train, y_train)\n"
   ]
  },
  {
   "cell_type": "code",
   "execution_count": 19,
   "metadata": {},
   "outputs": [
    {
     "data": {
      "text/plain": [
       "0.7444998128853085"
      ]
     },
     "execution_count": 19,
     "metadata": {},
     "output_type": "execute_result"
    }
   ],
   "source": [
    "lr.score(test, test_df.label)"
   ]
  },
  {
   "cell_type": "code",
   "execution_count": 23,
   "metadata": {},
   "outputs": [
    {
     "data": {
      "image/png": "[encoded data removed]",
      "text/plain": [
       "<Figure size 432x288 with 1 Axes>"
      ]
     },
     "metadata": {
      "needs_background": "light"
     },
     "output_type": "display_data"
    }
   ],
   "source": [
    "y_nb_pred_prob = nb_classifier.predict_proba(test)[:,1]\n",
    "y_lr_pred_prob = lr.predict_proba(test)[:,1]\n",
    "\n",
    "nb_fpr, nb_tpr, nb_thresholds = metrics.roc_curve(test_df.label, y_nb_pred_prob)\n",
    "lr_fpr, lr_tpr, lr_thresholds = metrics.roc_curve(test_df.label, y_lr_pred_prob)\n",
    "\n",
    "plt.plot([0, 1], [0, 1], 'k--')\n",
    "plt.plot(nb_fpr, nb_tpr, label='NaiveBayes')\n",
    "plt.plot(lr_fpr, lr_tpr, label='LogReg')\n",
    "plt.xlabel('False Positive Rate')\n",
    "plt.ylabel('True Positive Rate')\n",
    "plt.title('ROC Curve')\n",
    "plt.legend(loc='lower right') \n",
    "plt.show()"
   ]
  },
  {
   "cell_type": "markdown",
   "metadata": {},
   "source": [
    "# Export\n",
    "\n",
    "The original method is clearly superior to logistic regression. \n",
    "In the last step, I export the data (word counts and NaiveBayes weights) into a JSON format and the model itself into a Joblib format in order to use it externally, e.g. on a <a href=\"http://marekcichy.alwaysdata.net\">Web page</a>."
   ]
  },
  {
   "cell_type": "code",
   "execution_count": 24,
   "metadata": {},
   "outputs": [],
   "source": [
    "json_df = pd.DataFrame([vectorizer.inverse_transform(nb_classifier.coef_)[0], \n",
    "                        nb_classifier.feature_count_[0], nb_classifier.feature_count_[1], \n",
    "                        nb_classifier.feature_log_prob_[0], nb_classifier.feature_log_prob_[1]])\n",
    "\n",
    "json_df = json_df.T\n",
    "\n",
    "json_df.columns = ['word', 'pt_count', 'br_count', 'pt_log_prob', 'br_log_prob']\n",
    "json_df = json_df.set_index('word')"
   ]
  },
  {
   "cell_type": "code",
   "execution_count": 25,
   "metadata": {},
   "outputs": [],
   "source": [
    "json_dict = json_df.to_dict()"
   ]
  },
  {
   "cell_type": "code",
   "execution_count": 26,
   "metadata": {},
   "outputs": [],
   "source": [
    "with open('data.json', 'w', encoding='utf-8') as f:\n",
    "    json.dump(json_dict, f, ensure_ascii=False, indent=4)"
   ]
  },
  {
   "cell_type": "code",
   "execution_count": 27,
   "metadata": {},
   "outputs": [
    {
     "data": {
      "text/plain": [
       "['ptclassifier.joblib']"
      ]
     },
     "execution_count": 27,
     "metadata": {},
     "output_type": "execute_result"
    }
   ],
   "source": [
    "pipeline = Pipeline([('vectorizer',vectorizer),('classifier',nb_classifier)])\n",
    "\n",
    "dump(pipeline, 'ptclassifier.joblib', protocol = 2) "
   ]
  }
 ],
 "metadata": {
  "kernelspec": {
   "display_name": "Python 3",
   "language": "python",
   "name": "python3"
  },
  "language_info": {
   "codemirror_mode": {
    "name": "ipython",
    "version": 3
   },
   "file_extension": ".py",
   "mimetype": "text/x-python",
   "name": "python",
   "nbconvert_exporter": "python",
   "pygments_lexer": "ipython3",
   "version": "3.7.1"
  },
  "toc": {
   "base_numbering": 1,
   "nav_menu": {},
   "number_sections": true,
   "sideBar": true,
   "skip_h1_title": false,
   "title_cell": "Table of Contents",
   "title_sidebar": "Contents",
   "toc_cell": false,
   "toc_position": {},
   "toc_section_display": true,
   "toc_window_display": false
  }
 },
 "nbformat": 4,
 "nbformat_minor": 2
}
